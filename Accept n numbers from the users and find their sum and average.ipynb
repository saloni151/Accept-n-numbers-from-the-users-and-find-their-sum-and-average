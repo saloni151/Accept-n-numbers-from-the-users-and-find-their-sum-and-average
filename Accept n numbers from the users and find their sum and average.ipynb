{
 "cells": [
  {
   "cell_type": "code",
   "execution_count": 1,
   "id": "38172b07",
   "metadata": {},
   "outputs": [
    {
     "data": {
      "text/plain": [
       "'Write a program  which will accept n numbers from the users and find their sum and average'"
      ]
     },
     "execution_count": 1,
     "metadata": {},
     "output_type": "execute_result"
    }
   ],
   "source": [
    "\"Write a program  which will accept n numbers from the users and find their sum and average\""
   ]
  },
  {
   "cell_type": "code",
   "execution_count": 2,
   "id": "891d5f09",
   "metadata": {},
   "outputs": [
    {
     "name": "stdout",
     "output_type": "stream",
     "text": [
      "Enter how many number do you want to enter:5\n"
     ]
    }
   ],
   "source": [
    "n=int(input(\"Enter how many number do you want to enter:\"))"
   ]
  },
  {
   "cell_type": "code",
   "execution_count": 4,
   "id": "50ceef70",
   "metadata": {},
   "outputs": [
    {
     "name": "stdout",
     "output_type": "stream",
     "text": [
      "enter 5 values:\n",
      "5\n",
      "5\n",
      "5\n",
      "5\n",
      "5\n",
      "----------------------------------------\n",
      "enter given list of the value[5.0, 5.0, 5.0, 5.0, 5.0]\n",
      "----------------------------------------\n",
      "--------------------------------------------------------------------------------------------------------------------------------------------------------------------------------------------------------\n",
      "the sum of value 25.0\n",
      "the average of valur5.0\n",
      "----------------------------------------------------------------------------------------------------------------------------------------------------------------------------------------------------------------------------------------------------------\n"
     ]
    }
   ],
   "source": [
    "if(n<=0):\n",
    "    print(\"The number is invalid {}\".format(n))\n",
    "else:\n",
    "    l=[]\n",
    "    print(\"enter {} values:\".format(l))\n",
    "    for i in range(1,n+1):\n",
    "        val=float(input())\n",
    "        l.append(val)\n",
    "    else:\n",
    "        print(\"-\"*40)\n",
    "        print('enter given list of the value{}'.format(l))\n",
    "        print(\"-\"*40)\n",
    "        s=0\n",
    "        for val in l:\n",
    "            s=s+val\n",
    "        else:\n",
    "            print(\"----\"*50)\n",
    "            print(\"the sum of value {}\".format(s))\n",
    "            print(\"the average of valur{}\".format(s/len(l)))\n",
    "            print(\"-----\"*50)\n",
    "            "
   ]
  },
  {
   "cell_type": "code",
   "execution_count": null,
   "id": "16598106",
   "metadata": {},
   "outputs": [],
   "source": []
  },
  {
   "cell_type": "code",
   "execution_count": null,
   "id": "a0ec4eaa",
   "metadata": {},
   "outputs": [],
   "source": []
  },
  {
   "cell_type": "code",
   "execution_count": null,
   "id": "3b9a247e",
   "metadata": {},
   "outputs": [],
   "source": []
  },
  {
   "cell_type": "code",
   "execution_count": null,
   "id": "430f5ce8",
   "metadata": {},
   "outputs": [],
   "source": []
  },
  {
   "cell_type": "code",
   "execution_count": null,
   "id": "87014728",
   "metadata": {},
   "outputs": [],
   "source": []
  },
  {
   "cell_type": "code",
   "execution_count": null,
   "id": "7e6125f0",
   "metadata": {},
   "outputs": [],
   "source": []
  },
  {
   "cell_type": "code",
   "execution_count": null,
   "id": "6c2a6c7a",
   "metadata": {},
   "outputs": [],
   "source": []
  },
  {
   "cell_type": "code",
   "execution_count": null,
   "id": "441af572",
   "metadata": {},
   "outputs": [],
   "source": []
  },
  {
   "cell_type": "code",
   "execution_count": null,
   "id": "982b7cc5",
   "metadata": {},
   "outputs": [],
   "source": []
  },
  {
   "cell_type": "code",
   "execution_count": null,
   "id": "2e09c334",
   "metadata": {},
   "outputs": [],
   "source": []
  },
  {
   "cell_type": "code",
   "execution_count": null,
   "id": "8de0d79c",
   "metadata": {},
   "outputs": [],
   "source": []
  },
  {
   "cell_type": "code",
   "execution_count": null,
   "id": "297c8c67",
   "metadata": {},
   "outputs": [],
   "source": []
  },
  {
   "cell_type": "code",
   "execution_count": null,
   "id": "77ea6cbe",
   "metadata": {},
   "outputs": [],
   "source": []
  },
  {
   "cell_type": "code",
   "execution_count": null,
   "id": "4a05fa5e",
   "metadata": {},
   "outputs": [],
   "source": []
  },
  {
   "cell_type": "code",
   "execution_count": null,
   "id": "14763bbb",
   "metadata": {},
   "outputs": [],
   "source": []
  }
 ],
 "metadata": {
  "kernelspec": {
   "display_name": "Python 3 (ipykernel)",
   "language": "python",
   "name": "python3"
  },
  "language_info": {
   "codemirror_mode": {
    "name": "ipython",
    "version": 3
   },
   "file_extension": ".py",
   "mimetype": "text/x-python",
   "name": "python",
   "nbconvert_exporter": "python",
   "pygments_lexer": "ipython3",
   "version": "3.10.9"
  }
 },
 "nbformat": 4,
 "nbformat_minor": 5
}
